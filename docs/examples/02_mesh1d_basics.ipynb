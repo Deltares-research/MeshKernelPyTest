{
 "cells": [
  {
   "cell_type": "markdown",
   "id": "9f234f58-e46f-4014-b9a8-7d5b46f8dc50",
   "metadata": {},
   "source": [
    "# Mesh1d basics\n",
    "\n",
    "\n",
    "This tutorial will show how to deal with 1d meshes and how they can interact with 2d meshes."
   ]
  },
  {
   "cell_type": "markdown",
   "id": "7a9ccfb1-f4c4-477d-9090-02ef4b536ba5",
   "metadata": {},
   "source": [
    "At the very beginning, the necessary libraries have to be imported."
   ]
  },
  {
   "cell_type": "code",
   "execution_count": 1,
   "id": "ec99e633-0ade-4753-83d6-ab654cea0403",
   "metadata": {},
   "outputs": [],
   "source": [
    "import matplotlib.pyplot as plt\n",
    "import numpy as np\n",
    "\n",
    "from meshkernel import Mesh1d, Mesh2dFactory, MeshKernel"
   ]
  },
  {
   "cell_type": "markdown",
   "id": "b2f998a5-21a8-4420-a75c-67e041e41e3d",
   "metadata": {},
   "source": [
    "First, let us describe our 1d mesh with six points of a sinusoidal function."
   ]
  },
  {
   "cell_type": "code",
   "execution_count": 2,
   "id": "6190c4a0-c499-42d3-94c9-84128333c746",
   "metadata": {},
   "outputs": [],
   "source": [
    "node_x = np.linspace(0, 2 * np.pi, 8)\n",
    "node_y = np.sin(node_x)"
   ]
  },
  {
   "cell_type": "markdown",
   "id": "dbcb283a-9e49-4bca-8f48-b70c89ed5f7a",
   "metadata": {},
   "source": [
    "We want a continuous line, which is why we just connect each point with the following one."
   ]
  },
  {
   "cell_type": "code",
   "execution_count": 3,
   "id": "ff39e136-e9e7-4efc-a3af-b955d5865341",
   "metadata": {},
   "outputs": [],
   "source": [
    "edge_nodes = np.zeros(node_x.size * 2, np.int32)\n",
    "edge_index = 0\n",
    "for node_index in range(node_x.size - 1):\n",
    "    edge_nodes[edge_index] = node_index\n",
    "    edge_index += 1\n",
    "    edge_nodes[edge_index] = node_index + 1\n",
    "    edge_index += 1"
   ]
  },
  {
   "cell_type": "markdown",
   "id": "93c4e2e8-eb4e-4425-bf9b-650e7fbe4f0d",
   "metadata": {},
   "source": [
    "Then, we can create our `Mesh1d` instance."
   ]
  },
  {
   "cell_type": "code",
   "execution_count": 4,
   "id": "0c616b30-e6b6-42c7-8e40-c9d2f8a3b9b7",
   "metadata": {},
   "outputs": [],
   "source": [
    "mesh1d_input = Mesh1d(node_x, node_y, edge_nodes)"
   ]
  },
  {
   "cell_type": "markdown",
   "id": "a42bf4f0-db1f-453f-8601-40e691d19203",
   "metadata": {},
   "source": [
    "We also use `Mesh2dFactory` to create a `Mesh2d` instance."
   ]
  },
  {
   "cell_type": "code",
   "execution_count": 5,
   "id": "89a81165-9b66-4012-be6e-ed9161816b48",
   "metadata": {},
   "outputs": [],
   "source": [
    "mesh2d_input = Mesh2dFactory.create_rectilinear_mesh(3, 7, origin_x=-0.2, origin_y=-1.5)"
   ]
  },
  {
   "cell_type": "markdown",
   "id": "3f4673d1-1dfb-4502-a321-923705065f31",
   "metadata": {},
   "source": [
    "Then, we create a `MeshKernel` instance and set its state."
   ]
  },
  {
   "cell_type": "code",
   "execution_count": 6,
   "id": "18c59552-68a1-4a36-87f7-f622c62a14d8",
   "metadata": {},
   "outputs": [],
   "source": [
    "mk = MeshKernel()\n",
    "mk.mesh1d_set(mesh1d_input)\n",
    "mk.mesh2d_set(mesh2d_input)"
   ]
  },
  {
   "cell_type": "markdown",
   "id": "9d67d226-163e-43d1-88ce-2f6463364e91",
   "metadata": {},
   "source": [
    "This is how our meshes currently look like:"
   ]
  },
  {
   "cell_type": "code",
   "execution_count": 7,
   "id": "cfa75506",
   "metadata": {},
   "outputs": [
    {
     "data": {
      "image/png": "[encoded data removed]",
      "text/plain": [
       "<Figure size 432x288 with 1 Axes>"
      ]
     },
     "metadata": {
      "needs_background": "light"
     },
     "output_type": "display_data"
    }
   ],
   "source": [
    "fig, ax = plt.subplots()\n",
    "mesh1d_input.plot_edges(ax, color=\"blue\")\n",
    "mesh2d_input.plot_edges(ax, color=\"black\")"
   ]
  },
  {
   "cell_type": "markdown",
   "id": "0634bfd3-049a-4507-ab74-b656198ad7a5",
   "metadata": {},
   "source": [
    "Typically if we have 1d and 2d meshes we want to create contacts between them.\n",
    "All contacts methods expect a node mask, which determines which 1d nodes should be connected.\n",
    "In our case we want to consider all nodes."
   ]
  },
  {
   "cell_type": "code",
   "execution_count": 16,
   "id": "6abc8ae3",
   "metadata": {},
   "outputs": [],
   "source": [
    "node_mask = np.full(mesh1d_input.node_x.size, True)"
   ]
  },
  {
   "cell_type": "markdown",
   "id": "90a86405-427c-4d67-91fa-0a2c289796c1",
   "metadata": {},
   "source": [
    "We call the `contacts_compute_multiple` method in order to create the contacts."
   ]
  },
  {
   "cell_type": "code",
   "execution_count": 13,
   "id": "1728b155",
   "metadata": {},
   "outputs": [],
   "source": [
    "mk.contacts_compute_multiple(node_mask)"
   ]
  },
  {
   "cell_type": "markdown",
   "id": "b4905df3-7a5c-4b43-8269-58ed596234a1",
   "metadata": {},
   "source": [
    "Then, we retrieve the state from the `MeshKernel` instance."
   ]
  },
  {
   "cell_type": "code",
   "execution_count": 14,
   "id": "94282767",
   "metadata": {},
   "outputs": [],
   "source": [
    "mesh1d_output_0 = mk.mesh1d_get()\n",
    "mesh2d_output_0 = mk.mesh2d_get()\n",
    "contacts_output_0 = mk.contacts_get()"
   ]
  },
  {
   "cell_type": "markdown",
   "id": "44d34823-02a0-4261-a777-34812035b9e2",
   "metadata": {},
   "source": [
    "We see that there are now contacts between the 1d nodes and the 2d faces."
   ]
  },
  {
   "cell_type": "code",
   "execution_count": 15,
   "id": "65b73bb0",
   "metadata": {},
   "outputs": [
    {
     "data": {
      "image/png": "[encoded data removed]",
      "text/plain": [
       "<Figure size 432x288 with 1 Axes>"
      ]
     },
     "metadata": {
      "needs_background": "light"
     },
     "output_type": "display_data"
    }
   ],
   "source": [
    "fig, ax = plt.subplots()\n",
    "mesh1d_output_0.plot_edges(ax, color=\"blue\")\n",
    "mesh2d_output_0.plot_edges(ax, color=\"black\")\n",
    "contacts_output_0.plot_edges(ax, mesh1d_output_0, mesh2d_output_0, color=\"red\")"
   ]
  }
 ],
 "metadata": {
  "kernelspec": {
   "display_name": "Python 3",
   "language": "python",
   "name": "python3"
  },
  "language_info": {
   "codemirror_mode": {
    "name": "ipython",
    "version": 3
   },
   "file_extension": ".py",
   "mimetype": "text/x-python",
   "name": "python",
   "nbconvert_exporter": "python",
   "pygments_lexer": "ipython3",
   "version": "3.9.2"
  }
 },
 "nbformat": 4,
 "nbformat_minor": 5
}
