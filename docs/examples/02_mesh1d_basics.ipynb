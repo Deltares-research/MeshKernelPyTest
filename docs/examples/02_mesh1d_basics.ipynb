{
 "cells": [
  {
   "cell_type": "markdown",
   "id": "9f234f58-e46f-4014-b9a8-7d5b46f8dc50",
   "metadata": {},
   "source": [
    "# Mesh1d basics\n",
    "\n",
    "\n",
    "This tutorial will show how to deal with 1d meshes and how they can interact with 2d meshes."
   ]
  },
  {
   "cell_type": "markdown",
   "id": "7a9ccfb1-f4c4-477d-9090-02ef4b536ba5",
   "metadata": {},
   "source": [
    "At the very beginning, the necessary libraries have to be imported."
   ]
  },
  {
   "cell_type": "code",
   "execution_count": 1,
   "id": "ec99e633-0ade-4753-83d6-ab654cea0403",
   "metadata": {},
   "outputs": [],
   "source": [
    "import matplotlib.pyplot as plt\n",
    "import numpy as np\n",
    "\n",
    "from meshkernel import Mesh1d, Mesh2dFactory, MeshKernel"
   ]
  },
  {
   "cell_type": "code",
   "execution_count": 2,
   "id": "6190c4a0-c499-42d3-94c9-84128333c746",
   "metadata": {},
   "outputs": [],
   "source": [
    "node_x = np.linspace(0, 2 * np.pi, 6)"
   ]
  },
  {
   "cell_type": "code",
   "execution_count": 3,
   "id": "60f8d296-d6cd-4186-8236-98136917f415",
   "metadata": {},
   "outputs": [],
   "source": [
    "node_y = np.sin(node_x)"
   ]
  },
  {
   "cell_type": "code",
   "execution_count": 4,
   "id": "ff39e136-e9e7-4efc-a3af-b955d5865341",
   "metadata": {},
   "outputs": [],
   "source": [
    "edge_nodes = np.zeros(node_x.size * 2, np.int32)\n",
    "edge_index = 0\n",
    "for node_index in range(node_x.size - 1):\n",
    "    edge_nodes[edge_index] = node_index\n",
    "    edge_index += 1\n",
    "    edge_nodes[edge_index] = node_index + 1\n",
    "    edge_index += 1"
   ]
  },
  {
   "cell_type": "code",
   "execution_count": 5,
   "id": "0c616b30-e6b6-42c7-8e40-c9d2f8a3b9b7",
   "metadata": {},
   "outputs": [],
   "source": [
    "mesh1d_input = Mesh1d(node_x, node_y, edge_nodes)"
   ]
  },
  {
   "cell_type": "code",
   "execution_count": 6,
   "id": "89a81165-9b66-4012-be6e-ed9161816b48",
   "metadata": {},
   "outputs": [],
   "source": [
    "mesh2d_input = Mesh2dFactory.create_rectilinear_mesh(2, 6, origin_y=-3.5)"
   ]
  },
  {
   "cell_type": "code",
   "execution_count": 7,
   "id": "18c59552-68a1-4a36-87f7-f622c62a14d8",
   "metadata": {},
   "outputs": [],
   "source": [
    "mk = MeshKernel()\n",
    "mk.mesh1d_set(mesh1d_input)\n",
    "mk.mesh2d_set(mesh2d_input)"
   ]
  },
  {
   "cell_type": "code",
   "execution_count": 8,
   "id": "2732bc7e",
   "metadata": {},
   "outputs": [
    {
     "data": {
      "image/png": "[encoded data removed]",
      "text/plain": [
       "<Figure size 432x288 with 1 Axes>"
      ]
     },
     "metadata": {
      "needs_background": "light"
     },
     "output_type": "display_data"
    }
   ],
   "source": [
    "fig, ax = plt.subplots()\n",
    "mesh2d_input.plot_edges(ax, color=\"black\")\n",
    "mesh1d_input.plot_edges(ax, color=\"blue\")"
   ]
  }
 ],
 "metadata": {
  "kernelspec": {
   "display_name": "Python 3",
   "language": "python",
   "name": "python3"
  },
  "language_info": {
   "codemirror_mode": {
    "name": "ipython",
    "version": 3
   },
   "file_extension": ".py",
   "mimetype": "text/x-python",
   "name": "python",
   "nbconvert_exporter": "python",
   "pygments_lexer": "ipython3",
   "version": "3.9.2"
  }
 },
 "nbformat": 4,
 "nbformat_minor": 5
}
