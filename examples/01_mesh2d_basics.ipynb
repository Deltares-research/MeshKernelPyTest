{
 "cells": [
  {
   "cell_type": "markdown",
   "id": "9082445c-5e6d-4ece-8e89-8ff54840377b",
   "metadata": {},
   "source": [
    "# Mesh2d Basics\n",
    "\n",
    "This is the basic introduction for using the `meshkernel` library.\n",
    "\n",
    "`meshkernel` can be used for creating and manipulating various kind of meshes.\n",
    "\n",
    "The most common case deals with unstructured, two-dimensional meshes which is why this tutorial focuses on these."
   ]
  },
  {
   "cell_type": "markdown",
   "id": "65d74297-d56d-4c1c-93a6-ad7ed9cfd805",
   "metadata": {},
   "source": [
    "At the very beginning, the necessary libraries have to be imported."
   ]
  },
  {
   "cell_type": "code",
   "execution_count": 1,
   "id": "e77bf96a-0d6f-44c0-8d9a-ad5d12cc3d91",
   "metadata": {},
   "outputs": [],
   "source": [
    "import matplotlib.pyplot as plt\n",
    "import numpy as np\n",
    "\n",
    "from meshkernel import Mesh2dFactory, MeshKernel"
   ]
  },
  {
   "cell_type": "markdown",
   "id": "9f264b6c-360f-481a-81f6-bd273df5c928",
   "metadata": {},
   "source": [
    "`meshkernel` provides a set of convenience methods for creating common meshes.\n",
    "\n",
    "We use the `create_rectilinear_mesh` method to create a 3x4 mesh.\n",
    "You can look at the documentation in order to find all its parameters."
   ]
  },
  {
   "cell_type": "code",
   "execution_count": 2,
   "id": "db72d89a-ccad-4a6f-937b-ded7e9051182",
   "metadata": {},
   "outputs": [],
   "source": [
    "mesh2d_input = Mesh2dFactory.create_rectilinear_mesh(3, 4)"
   ]
  },
  {
   "cell_type": "markdown",
   "id": "a88b605b-90c3-4e68-bb70-3a2acb3bcfcc",
   "metadata": {},
   "source": [
    "`Mesh2dFactory`'s methods always return a `Mesh2D` instance.\n",
    "It has three mandatory attributes, which are enough to fully describe any unstructured mesh.\n",
    "\n",
    "The first two are `node_x` and `node_y`.\n",
    "They are one-dimensional double arrays, which describe the position of the nodes as can be seen below."
   ]
  },
  {
   "cell_type": "code",
   "execution_count": 3,
   "id": "ff85133a-c6a4-47a1-802c-a901ca2e6a1e",
   "metadata": {},
   "outputs": [
    {
     "data": {
      "image/png": "[encoded data removed]",
      "text/plain": [
       "<Figure size 432x288 with 1 Axes>"
      ]
     },
     "metadata": {
      "needs_background": "light"
     },
     "output_type": "display_data"
    }
   ],
   "source": [
    "# Plot white points only for scaling the plot\n",
    "plt.plot(mesh2d_input.node_x, mesh2d_input.node_y, \"ow\")\n",
    "\n",
    "# Numbering the nodes\n",
    "for i in range(mesh2d_input.node_x.size):\n",
    "    plt.annotate(\n",
    "        int(i),\n",
    "        xy=(mesh2d_input.node_x[i], mesh2d_input.node_y[i]),\n",
    "        ha=\"center\",\n",
    "        va=\"center\",\n",
    "        fontsize=12,\n",
    "        color=\"blue\",\n",
    "    )"
   ]
  },
  {
   "cell_type": "markdown",
   "id": "aaa55676-11d4-4092-81e4-34bfb2c87461",
   "metadata": {},
   "source": [
    "The third mandatory attribute is `edge_nodes`.\n",
    "It describes the index of the nodes that make up the edges.\n",
    "\n",
    "Two indices describe one edge.\n",
    "So in our case the indices 0-4, 1-5, 2-6, ... describe each one edge."
   ]
  },
  {
   "cell_type": "code",
   "execution_count": 4,
   "id": "75dd85c3-b04c-439a-b588-faef1c72ebfc",
   "metadata": {},
   "outputs": [
    {
     "data": {
      "text/plain": [
       "array([ 0,  4,  1,  5,  2,  6,  3,  7,  4,  8,  5,  9,  6, 10,  7, 11,  1,\n",
       "        0,  2,  1,  3,  2,  5,  4,  6,  5,  7,  6,  9,  8, 10,  9, 11, 10])"
      ]
     },
     "execution_count": 4,
     "metadata": {},
     "output_type": "execute_result"
    }
   ],
   "source": [
    "mesh2d_input.edge_nodes"
   ]
  },
  {
   "cell_type": "markdown",
   "id": "70aa54bc-b161-41a4-ba1f-aee7bd9b5f79",
   "metadata": {},
   "source": [
    "With all three parameters together we can plot the mesh."
   ]
  },
  {
   "cell_type": "code",
   "execution_count": 5,
   "id": "ed9aa89d-20f2-4d06-8967-86ef68ea6dc7",
   "metadata": {},
   "outputs": [
    {
     "data": {
      "image/png": "[encoded data removed]",
      "text/plain": [
       "<Figure size 432x288 with 1 Axes>"
      ]
     },
     "metadata": {
      "needs_background": "light"
     },
     "output_type": "display_data"
    }
   ],
   "source": [
    "for edge_index in range(0, mesh2d_input.edge_nodes.size, 2):\n",
    "    first_edge_node_index = mesh2d_input.edge_nodes[edge_index]\n",
    "    second_edge_node_index = mesh2d_input.edge_nodes[edge_index + 1]\n",
    "\n",
    "    edge_x = [\n",
    "        mesh2d_input.node_x[first_edge_node_index],\n",
    "        mesh2d_input.node_x[second_edge_node_index],\n",
    "    ]\n",
    "    edge_y = [\n",
    "        mesh2d_input.node_y[first_edge_node_index],\n",
    "        mesh2d_input.node_y[second_edge_node_index],\n",
    "    ]\n",
    "\n",
    "    plt.plot(edge_x, edge_y, \"b-\")"
   ]
  },
  {
   "cell_type": "markdown",
   "id": "45430cd0-5a08-4801-81b0-6b710f10bbe5",
   "metadata": {},
   "source": [
    "In order to interact with the `meshkernel` library, we create a new instance of the `MeshKernel` class.\n",
    "\n",
    "`is_geographic` describes whether the mesh is cartesian (`False`) or spherical (`True`). "
   ]
  },
  {
   "cell_type": "code",
   "execution_count": 6,
   "id": "9febffa3-8b0f-4dbe-b36e-a876ffcca868",
   "metadata": {},
   "outputs": [],
   "source": [
    "mk = MeshKernel(is_geographic=False)"
   ]
  },
  {
   "cell_type": "markdown",
   "id": "bcd42088-43c5-43f7-bd40-1defb775a10e",
   "metadata": {},
   "source": [
    "Each instance holds it own state.\n",
    "This state can be accessed with the corresponding getter and setter methods."
   ]
  },
  {
   "cell_type": "code",
   "execution_count": 7,
   "id": "1009f8a7-d45c-4ac5-bf61-7bf666306b93",
   "metadata": {},
   "outputs": [],
   "source": [
    "mk.set_mesh2d(mesh2d_input)"
   ]
  },
  {
   "cell_type": "code",
   "execution_count": 8,
   "id": "7019ed10-abf5-4ca3-851b-1289cdde890d",
   "metadata": {},
   "outputs": [],
   "source": [
    "mesh2d_output_0 = mk.get_mesh2d()"
   ]
  },
  {
   "cell_type": "markdown",
   "id": "c0f989c6-482f-42ce-aebc-d9282cb0997b",
   "metadata": {},
   "source": [
    "We now set mesh2d and immediately got it again, without asking `meshkernel` to execute any operations in between.\n",
    "\n",
    "Even so, we already get more back, since `meshkernel` immediately tries to find faces after the state is set."
   ]
  }
 ],
 "metadata": {
  "kernelspec": {
   "display_name": "Python 3",
   "language": "python",
   "name": "python3"
  },
  "language_info": {
   "codemirror_mode": {
    "name": "ipython",
    "version": 3
   },
   "file_extension": ".py",
   "mimetype": "text/x-python",
   "name": "python",
   "nbconvert_exporter": "python",
   "pygments_lexer": "ipython3",
   "version": "3.9.2"
  }
 },
 "nbformat": 4,
 "nbformat_minor": 5
}
